{
  "cells": [
    {
      "cell_type": "code",
      "execution_count": 1,
      "id": "0356b1c0",
      "metadata": {
        "id": "0356b1c0"
      },
      "outputs": [],
      "source": [
        "import pandas as pd, torch, torch.nn as nn, pickle\n",
        "from sklearn.model_selection import train_test_split\n",
        "import glob, os, timeit\n",
        "import torch.nn.functional as F\n",
        "import numpy as np"
      ]
    },
    {
      "cell_type": "code",
      "source": [
        "from google.colab import drive\n",
        "drive.mount('/content/drive')"
      ],
      "metadata": {
        "colab": {
          "base_uri": "https://localhost:8080/"
        },
        "id": "mB0Kb_tZLp3o",
        "outputId": "86616ac9-9526-48f2-eede-9128f7247b14"
      },
      "id": "mB0Kb_tZLp3o",
      "execution_count": 2,
      "outputs": [
        {
          "output_type": "stream",
          "name": "stdout",
          "text": [
            "Mounted at /content/drive\n"
          ]
        }
      ]
    },
    {
      "cell_type": "code",
      "execution_count": 3,
      "id": "de47ef74",
      "metadata": {
        "id": "de47ef74"
      },
      "outputs": [],
      "source": [
        "filename = '/content/drive/MyDrive/77bins.csv'\n",
        "\n",
        "chunks = []\n",
        "\n",
        "# for idx, chunk in enumerate(df):\n",
        "#   if idx % 10: print(idx)\n",
        "#   chunks.append(chunk)\n",
        "\n",
        "chunksize = 10 ** 6\n",
        "for chunk in pd.read_csv(filename, index_col=0, chunksize=chunksize):\n",
        "  chunks.append(chunk)"
      ]
    },
    {
      "cell_type": "code",
      "execution_count": 4,
      "id": "19605d16",
      "metadata": {
        "id": "19605d16",
        "outputId": "3e9ddd1a-ae43-47c5-81bf-27a7d88b7714",
        "colab": {
          "base_uri": "https://localhost:8080/",
          "height": 206
        }
      },
      "outputs": [
        {
          "output_type": "execute_result",
          "data": {
            "text/plain": [
              "            Biosample type                  Biosample name Tissue type  \\\n",
              "Sample_0025   Primary Cell  CD56Bright natural killer cell       Blood   \n",
              "Sample_0026   Primary Cell  CD56Bright natural killer cell       Blood   \n",
              "Sample_0027   Primary Cell  CD56Bright natural killer cell       Blood   \n",
              "Sample_0028   Primary Cell  CD56Bright natural killer cell       Blood   \n",
              "Sample_0029   Primary Cell     CD56Dim natural killer cell       Blood   \n",
              "\n",
              "            Cancer type  Region number  \\\n",
              "Sample_0025      Normal          48025   \n",
              "Sample_0026      Normal          50447   \n",
              "Sample_0027      Normal          47349   \n",
              "Sample_0028      Normal          46698   \n",
              "Sample_0029      Normal          40745   \n",
              "\n",
              "                                                           seq  \n",
              "Sample_0025  ZZZZZZZZZZZZZZZZZZZZZZZZZZZZZZZZZZZZZZZZZZZZZZ...  \n",
              "Sample_0026  ZZZZZZZZZZZZZZZZZZZZZZZZZZZZZZZZZZZZZZZZZZZZZZ...  \n",
              "Sample_0027  ZZZZZZZZZZZZZZZZZZZZZZZZZZZZZZZZZZZZZZZZZZZZZZ...  \n",
              "Sample_0028  ZZZZZZZZZZZZZZZZZZZZZZZZZZZZZZZZZZZZZZZZZZZZZZ...  \n",
              "Sample_0029  ZZZZZZZZZZZZZZZZZZZZZZZZZZZZZZZZZZZZZZZZZZZZZZ...  "
            ],
            "text/html": [
              "\n",
              "  <div id=\"df-73a5201f-2174-4aea-a99d-15de1c431027\">\n",
              "    <div class=\"colab-df-container\">\n",
              "      <div>\n",
              "<style scoped>\n",
              "    .dataframe tbody tr th:only-of-type {\n",
              "        vertical-align: middle;\n",
              "    }\n",
              "\n",
              "    .dataframe tbody tr th {\n",
              "        vertical-align: top;\n",
              "    }\n",
              "\n",
              "    .dataframe thead th {\n",
              "        text-align: right;\n",
              "    }\n",
              "</style>\n",
              "<table border=\"1\" class=\"dataframe\">\n",
              "  <thead>\n",
              "    <tr style=\"text-align: right;\">\n",
              "      <th></th>\n",
              "      <th>Biosample type</th>\n",
              "      <th>Biosample name</th>\n",
              "      <th>Tissue type</th>\n",
              "      <th>Cancer type</th>\n",
              "      <th>Region number</th>\n",
              "      <th>seq</th>\n",
              "    </tr>\n",
              "  </thead>\n",
              "  <tbody>\n",
              "    <tr>\n",
              "      <th>Sample_0025</th>\n",
              "      <td>Primary Cell</td>\n",
              "      <td>CD56Bright natural killer cell</td>\n",
              "      <td>Blood</td>\n",
              "      <td>Normal</td>\n",
              "      <td>48025</td>\n",
              "      <td>ZZZZZZZZZZZZZZZZZZZZZZZZZZZZZZZZZZZZZZZZZZZZZZ...</td>\n",
              "    </tr>\n",
              "    <tr>\n",
              "      <th>Sample_0026</th>\n",
              "      <td>Primary Cell</td>\n",
              "      <td>CD56Bright natural killer cell</td>\n",
              "      <td>Blood</td>\n",
              "      <td>Normal</td>\n",
              "      <td>50447</td>\n",
              "      <td>ZZZZZZZZZZZZZZZZZZZZZZZZZZZZZZZZZZZZZZZZZZZZZZ...</td>\n",
              "    </tr>\n",
              "    <tr>\n",
              "      <th>Sample_0027</th>\n",
              "      <td>Primary Cell</td>\n",
              "      <td>CD56Bright natural killer cell</td>\n",
              "      <td>Blood</td>\n",
              "      <td>Normal</td>\n",
              "      <td>47349</td>\n",
              "      <td>ZZZZZZZZZZZZZZZZZZZZZZZZZZZZZZZZZZZZZZZZZZZZZZ...</td>\n",
              "    </tr>\n",
              "    <tr>\n",
              "      <th>Sample_0028</th>\n",
              "      <td>Primary Cell</td>\n",
              "      <td>CD56Bright natural killer cell</td>\n",
              "      <td>Blood</td>\n",
              "      <td>Normal</td>\n",
              "      <td>46698</td>\n",
              "      <td>ZZZZZZZZZZZZZZZZZZZZZZZZZZZZZZZZZZZZZZZZZZZZZZ...</td>\n",
              "    </tr>\n",
              "    <tr>\n",
              "      <th>Sample_0029</th>\n",
              "      <td>Primary Cell</td>\n",
              "      <td>CD56Dim natural killer cell</td>\n",
              "      <td>Blood</td>\n",
              "      <td>Normal</td>\n",
              "      <td>40745</td>\n",
              "      <td>ZZZZZZZZZZZZZZZZZZZZZZZZZZZZZZZZZZZZZZZZZZZZZZ...</td>\n",
              "    </tr>\n",
              "  </tbody>\n",
              "</table>\n",
              "</div>\n",
              "      <button class=\"colab-df-convert\" onclick=\"convertToInteractive('df-73a5201f-2174-4aea-a99d-15de1c431027')\"\n",
              "              title=\"Convert this dataframe to an interactive table.\"\n",
              "              style=\"display:none;\">\n",
              "        \n",
              "  <svg xmlns=\"http://www.w3.org/2000/svg\" height=\"24px\"viewBox=\"0 0 24 24\"\n",
              "       width=\"24px\">\n",
              "    <path d=\"M0 0h24v24H0V0z\" fill=\"none\"/>\n",
              "    <path d=\"M18.56 5.44l.94 2.06.94-2.06 2.06-.94-2.06-.94-.94-2.06-.94 2.06-2.06.94zm-11 1L8.5 8.5l.94-2.06 2.06-.94-2.06-.94L8.5 2.5l-.94 2.06-2.06.94zm10 10l.94 2.06.94-2.06 2.06-.94-2.06-.94-.94-2.06-.94 2.06-2.06.94z\"/><path d=\"M17.41 7.96l-1.37-1.37c-.4-.4-.92-.59-1.43-.59-.52 0-1.04.2-1.43.59L10.3 9.45l-7.72 7.72c-.78.78-.78 2.05 0 2.83L4 21.41c.39.39.9.59 1.41.59.51 0 1.02-.2 1.41-.59l7.78-7.78 2.81-2.81c.8-.78.8-2.07 0-2.86zM5.41 20L4 18.59l7.72-7.72 1.47 1.35L5.41 20z\"/>\n",
              "  </svg>\n",
              "      </button>\n",
              "      \n",
              "  <style>\n",
              "    .colab-df-container {\n",
              "      display:flex;\n",
              "      flex-wrap:wrap;\n",
              "      gap: 12px;\n",
              "    }\n",
              "\n",
              "    .colab-df-convert {\n",
              "      background-color: #E8F0FE;\n",
              "      border: none;\n",
              "      border-radius: 50%;\n",
              "      cursor: pointer;\n",
              "      display: none;\n",
              "      fill: #1967D2;\n",
              "      height: 32px;\n",
              "      padding: 0 0 0 0;\n",
              "      width: 32px;\n",
              "    }\n",
              "\n",
              "    .colab-df-convert:hover {\n",
              "      background-color: #E2EBFA;\n",
              "      box-shadow: 0px 1px 2px rgba(60, 64, 67, 0.3), 0px 1px 3px 1px rgba(60, 64, 67, 0.15);\n",
              "      fill: #174EA6;\n",
              "    }\n",
              "\n",
              "    [theme=dark] .colab-df-convert {\n",
              "      background-color: #3B4455;\n",
              "      fill: #D2E3FC;\n",
              "    }\n",
              "\n",
              "    [theme=dark] .colab-df-convert:hover {\n",
              "      background-color: #434B5C;\n",
              "      box-shadow: 0px 1px 3px 1px rgba(0, 0, 0, 0.15);\n",
              "      filter: drop-shadow(0px 1px 2px rgba(0, 0, 0, 0.3));\n",
              "      fill: #FFFFFF;\n",
              "    }\n",
              "  </style>\n",
              "\n",
              "      <script>\n",
              "        const buttonEl =\n",
              "          document.querySelector('#df-73a5201f-2174-4aea-a99d-15de1c431027 button.colab-df-convert');\n",
              "        buttonEl.style.display =\n",
              "          google.colab.kernel.accessAllowed ? 'block' : 'none';\n",
              "\n",
              "        async function convertToInteractive(key) {\n",
              "          const element = document.querySelector('#df-73a5201f-2174-4aea-a99d-15de1c431027');\n",
              "          const dataTable =\n",
              "            await google.colab.kernel.invokeFunction('convertToInteractive',\n",
              "                                                     [key], {});\n",
              "          if (!dataTable) return;\n",
              "\n",
              "          const docLinkHtml = 'Like what you see? Visit the ' +\n",
              "            '<a target=\"_blank\" href=https://colab.research.google.com/notebooks/data_table.ipynb>data table notebook</a>'\n",
              "            + ' to learn more about interactive tables.';\n",
              "          element.innerHTML = '';\n",
              "          dataTable['output_type'] = 'display_data';\n",
              "          await google.colab.output.renderOutput(dataTable, element);\n",
              "          const docLink = document.createElement('div');\n",
              "          docLink.innerHTML = docLinkHtml;\n",
              "          element.appendChild(docLink);\n",
              "        }\n",
              "      </script>\n",
              "    </div>\n",
              "  </div>\n",
              "  "
            ]
          },
          "metadata": {},
          "execution_count": 4
        }
      ],
      "source": [
        "df = chunks[0]\n",
        "df['Cancer type'] = df['Cancer type'].apply(lambda cell: 'Normal' if cell == 'Normal' else 'Cancerous')\n",
        "df.head()"
      ]
    },
    {
      "cell_type": "code",
      "source": [
        "%load_ext Cython"
      ],
      "metadata": {
        "id": "XKYKLOkXSSls"
      },
      "id": "XKYKLOkXSSls",
      "execution_count": 5,
      "outputs": []
    },
    {
      "cell_type": "code",
      "source": [
        "%%cython\n",
        "\n",
        "import numpy as np\n",
        "np.get_include() # do we need this on colab? \n",
        "cimport cython\n",
        "cimport numpy as np\n",
        "\n",
        "# Adding Z here so we can encode the separator\n",
        "cdef dict bases={ 'A':<int>0, 'C':<int>1, 'G':<int>2, 'T':<int>3, 'Z':<int>4} \n",
        "\n",
        "@cython.boundscheck(False)\n",
        "def one_hot( str string ):\n",
        "    cdef np.ndarray[np.float32_t, ndim=2] res = np.zeros( (5,len(string)), dtype=np.float32 )\n",
        "    cdef int j\n",
        "    for j in range(len(string)):\n",
        "        if string[j] in bases: # bases can be 'N' signifying missing: this corresponds to all 0 in the encoding\n",
        "            res[ bases[ string[j] ], j ]=float(1.0)\n",
        "    return(res)"
      ],
      "metadata": {
        "id": "A_IEEnAVbKKP"
      },
      "id": "A_IEEnAVbKKP",
      "execution_count": 6,
      "outputs": []
    },
    {
      "cell_type": "code",
      "source": [
        "data_train, data_rem = train_test_split(df, train_size=0.8, random_state=543)\n",
        "data_validation, data_test = train_test_split(data_rem, test_size=0.5, random_state=82)\n",
        "data_train.head()"
      ],
      "metadata": {
        "colab": {
          "base_uri": "https://localhost:8080/",
          "height": 206
        },
        "id": "39Q_VSkhh2Sk",
        "outputId": "65c50ff1-6368-4152-9b3a-442ef4f338df"
      },
      "id": "39Q_VSkhh2Sk",
      "execution_count": 7,
      "outputs": [
        {
          "output_type": "execute_result",
          "data": {
            "text/plain": [
              "            Biosample type Biosample name Tissue type Cancer type  \\\n",
              "Sample_0243          Other         Bulk_B       Blood      Normal   \n",
              "Sample_0893      Cell Line         Jurkat       Blood   Cancerous   \n",
              "Sample_0544      Cell Line           U937       Blood   Cancerous   \n",
              "Sample_1171   Primary Cell   CD19+ B cell       Blood      Normal   \n",
              "Sample_0832   Primary Cell             YF       Blood   Cancerous   \n",
              "\n",
              "             Region number                                                seq  \n",
              "Sample_0243          15623  ZZZZZZZZZZZZZZZZZZZZZZZZZZZZZZZZZZZZZZZZZZZZZZ...  \n",
              "Sample_0893          82176  ZZZZZZZZZZZZZZZZZZZZZZZZZZZZZZZZZZZZZZZZZZZZZZ...  \n",
              "Sample_0544          55734  ZZZZZZZZZZZZZZZZZZZZZZZZZZZZZZZZZZZZZZZZZZZZZZ...  \n",
              "Sample_1171          39175  ZZZZZZZZZZZZZZZZZZZZZZZZZZZZZZZZZZZZZZZZZZZZZZ...  \n",
              "Sample_0832          10649  ZZZZZZZZZZZZZZZZZZZZZZZZZZZZZZZZZZZZZZZZZZZZZZ...  "
            ],
            "text/html": [
              "\n",
              "  <div id=\"df-76dc3195-7aad-469a-b4fb-cfc4e5e0f7cb\">\n",
              "    <div class=\"colab-df-container\">\n",
              "      <div>\n",
              "<style scoped>\n",
              "    .dataframe tbody tr th:only-of-type {\n",
              "        vertical-align: middle;\n",
              "    }\n",
              "\n",
              "    .dataframe tbody tr th {\n",
              "        vertical-align: top;\n",
              "    }\n",
              "\n",
              "    .dataframe thead th {\n",
              "        text-align: right;\n",
              "    }\n",
              "</style>\n",
              "<table border=\"1\" class=\"dataframe\">\n",
              "  <thead>\n",
              "    <tr style=\"text-align: right;\">\n",
              "      <th></th>\n",
              "      <th>Biosample type</th>\n",
              "      <th>Biosample name</th>\n",
              "      <th>Tissue type</th>\n",
              "      <th>Cancer type</th>\n",
              "      <th>Region number</th>\n",
              "      <th>seq</th>\n",
              "    </tr>\n",
              "  </thead>\n",
              "  <tbody>\n",
              "    <tr>\n",
              "      <th>Sample_0243</th>\n",
              "      <td>Other</td>\n",
              "      <td>Bulk_B</td>\n",
              "      <td>Blood</td>\n",
              "      <td>Normal</td>\n",
              "      <td>15623</td>\n",
              "      <td>ZZZZZZZZZZZZZZZZZZZZZZZZZZZZZZZZZZZZZZZZZZZZZZ...</td>\n",
              "    </tr>\n",
              "    <tr>\n",
              "      <th>Sample_0893</th>\n",
              "      <td>Cell Line</td>\n",
              "      <td>Jurkat</td>\n",
              "      <td>Blood</td>\n",
              "      <td>Cancerous</td>\n",
              "      <td>82176</td>\n",
              "      <td>ZZZZZZZZZZZZZZZZZZZZZZZZZZZZZZZZZZZZZZZZZZZZZZ...</td>\n",
              "    </tr>\n",
              "    <tr>\n",
              "      <th>Sample_0544</th>\n",
              "      <td>Cell Line</td>\n",
              "      <td>U937</td>\n",
              "      <td>Blood</td>\n",
              "      <td>Cancerous</td>\n",
              "      <td>55734</td>\n",
              "      <td>ZZZZZZZZZZZZZZZZZZZZZZZZZZZZZZZZZZZZZZZZZZZZZZ...</td>\n",
              "    </tr>\n",
              "    <tr>\n",
              "      <th>Sample_1171</th>\n",
              "      <td>Primary Cell</td>\n",
              "      <td>CD19+ B cell</td>\n",
              "      <td>Blood</td>\n",
              "      <td>Normal</td>\n",
              "      <td>39175</td>\n",
              "      <td>ZZZZZZZZZZZZZZZZZZZZZZZZZZZZZZZZZZZZZZZZZZZZZZ...</td>\n",
              "    </tr>\n",
              "    <tr>\n",
              "      <th>Sample_0832</th>\n",
              "      <td>Primary Cell</td>\n",
              "      <td>YF</td>\n",
              "      <td>Blood</td>\n",
              "      <td>Cancerous</td>\n",
              "      <td>10649</td>\n",
              "      <td>ZZZZZZZZZZZZZZZZZZZZZZZZZZZZZZZZZZZZZZZZZZZZZZ...</td>\n",
              "    </tr>\n",
              "  </tbody>\n",
              "</table>\n",
              "</div>\n",
              "      <button class=\"colab-df-convert\" onclick=\"convertToInteractive('df-76dc3195-7aad-469a-b4fb-cfc4e5e0f7cb')\"\n",
              "              title=\"Convert this dataframe to an interactive table.\"\n",
              "              style=\"display:none;\">\n",
              "        \n",
              "  <svg xmlns=\"http://www.w3.org/2000/svg\" height=\"24px\"viewBox=\"0 0 24 24\"\n",
              "       width=\"24px\">\n",
              "    <path d=\"M0 0h24v24H0V0z\" fill=\"none\"/>\n",
              "    <path d=\"M18.56 5.44l.94 2.06.94-2.06 2.06-.94-2.06-.94-.94-2.06-.94 2.06-2.06.94zm-11 1L8.5 8.5l.94-2.06 2.06-.94-2.06-.94L8.5 2.5l-.94 2.06-2.06.94zm10 10l.94 2.06.94-2.06 2.06-.94-2.06-.94-.94-2.06-.94 2.06-2.06.94z\"/><path d=\"M17.41 7.96l-1.37-1.37c-.4-.4-.92-.59-1.43-.59-.52 0-1.04.2-1.43.59L10.3 9.45l-7.72 7.72c-.78.78-.78 2.05 0 2.83L4 21.41c.39.39.9.59 1.41.59.51 0 1.02-.2 1.41-.59l7.78-7.78 2.81-2.81c.8-.78.8-2.07 0-2.86zM5.41 20L4 18.59l7.72-7.72 1.47 1.35L5.41 20z\"/>\n",
              "  </svg>\n",
              "      </button>\n",
              "      \n",
              "  <style>\n",
              "    .colab-df-container {\n",
              "      display:flex;\n",
              "      flex-wrap:wrap;\n",
              "      gap: 12px;\n",
              "    }\n",
              "\n",
              "    .colab-df-convert {\n",
              "      background-color: #E8F0FE;\n",
              "      border: none;\n",
              "      border-radius: 50%;\n",
              "      cursor: pointer;\n",
              "      display: none;\n",
              "      fill: #1967D2;\n",
              "      height: 32px;\n",
              "      padding: 0 0 0 0;\n",
              "      width: 32px;\n",
              "    }\n",
              "\n",
              "    .colab-df-convert:hover {\n",
              "      background-color: #E2EBFA;\n",
              "      box-shadow: 0px 1px 2px rgba(60, 64, 67, 0.3), 0px 1px 3px 1px rgba(60, 64, 67, 0.15);\n",
              "      fill: #174EA6;\n",
              "    }\n",
              "\n",
              "    [theme=dark] .colab-df-convert {\n",
              "      background-color: #3B4455;\n",
              "      fill: #D2E3FC;\n",
              "    }\n",
              "\n",
              "    [theme=dark] .colab-df-convert:hover {\n",
              "      background-color: #434B5C;\n",
              "      box-shadow: 0px 1px 3px 1px rgba(0, 0, 0, 0.15);\n",
              "      filter: drop-shadow(0px 1px 2px rgba(0, 0, 0, 0.3));\n",
              "      fill: #FFFFFF;\n",
              "    }\n",
              "  </style>\n",
              "\n",
              "      <script>\n",
              "        const buttonEl =\n",
              "          document.querySelector('#df-76dc3195-7aad-469a-b4fb-cfc4e5e0f7cb button.colab-df-convert');\n",
              "        buttonEl.style.display =\n",
              "          google.colab.kernel.accessAllowed ? 'block' : 'none';\n",
              "\n",
              "        async function convertToInteractive(key) {\n",
              "          const element = document.querySelector('#df-76dc3195-7aad-469a-b4fb-cfc4e5e0f7cb');\n",
              "          const dataTable =\n",
              "            await google.colab.kernel.invokeFunction('convertToInteractive',\n",
              "                                                     [key], {});\n",
              "          if (!dataTable) return;\n",
              "\n",
              "          const docLinkHtml = 'Like what you see? Visit the ' +\n",
              "            '<a target=\"_blank\" href=https://colab.research.google.com/notebooks/data_table.ipynb>data table notebook</a>'\n",
              "            + ' to learn more about interactive tables.';\n",
              "          element.innerHTML = '';\n",
              "          dataTable['output_type'] = 'display_data';\n",
              "          await google.colab.output.renderOutput(dataTable, element);\n",
              "          const docLink = document.createElement('div');\n",
              "          docLink.innerHTML = docLinkHtml;\n",
              "          element.appendChild(docLink);\n",
              "        }\n",
              "      </script>\n",
              "    </div>\n",
              "  </div>\n",
              "  "
            ]
          },
          "metadata": {},
          "execution_count": 7
        }
      ]
    },
    {
      "cell_type": "code",
      "source": [
        "for row in data_train.itertuples():\n",
        "  print(row[2])\n",
        "  break"
      ],
      "metadata": {
        "colab": {
          "base_uri": "https://localhost:8080/"
        },
        "id": "A-F_mixzjMJe",
        "outputId": "8252963c-4c90-4240-ec10-37462e2ef0d3"
      },
      "id": "A-F_mixzjMJe",
      "execution_count": 8,
      "outputs": [
        {
          "output_type": "stream",
          "name": "stdout",
          "text": [
            "Bulk_B\n"
          ]
        }
      ]
    },
    {
      "cell_type": "code",
      "source": [
        "class BedPeaksDataset(torch.utils.data.IterableDataset):\n",
        "\n",
        "    def __init__(self, data_set):\n",
        "        super(BedPeaksDataset, self).__init__()\n",
        "        self.atac_data = data_set\n",
        "\n",
        "    def __iter__(self): \n",
        "        for i,row in enumerate(self.atac_data.itertuples()):\n",
        "            seq = row.seq\n",
        "            value = np.float32(1)\n",
        "            if row._3 == \"Normal\":\n",
        "                value = np.float32(0)\n",
        "            yield(one_hot(seq), value) # positive example\n",
        "\n",
        "train_dataset = BedPeaksDataset(data_train)\n",
        "train_dataloader = torch.utils.data.DataLoader(train_dataset, batch_size=1000, num_workers = 0)"
      ],
      "metadata": {
        "id": "5AMLJ0kYid1C"
      },
      "id": "5AMLJ0kYid1C",
      "execution_count": 9,
      "outputs": []
    },
    {
      "cell_type": "code",
      "execution_count": 10,
      "id": "fee2db90",
      "metadata": {
        "id": "fee2db90"
      },
      "outputs": [],
      "source": [
        "def run_one_epoch(train_flag, dataloader, model, optimizer, device=\"cuda\"):\n",
        "\n",
        "    torch.set_grad_enabled(train_flag)\n",
        "    model.train() if train_flag else model.eval() \n",
        "\n",
        "    losses = []\n",
        "    accuracies = []\n",
        "\n",
        "    for (x,y) in dataloader: # collection of tuples with iterator\n",
        "\n",
        "        (x, y) = ( x.to(device), y.to(device) ) # transfer data to GPU\n",
        "\n",
        "        output = model(x) # forward pass\n",
        "        output = output.squeeze(1) # remove spurious channel dimension\n",
        "        loss = F.binary_cross_entropy_with_logits( output, y ) # numerically stable\n",
        "\n",
        "        if train_flag: \n",
        "            loss.backward() # back propagation\n",
        "            optimizer.step()\n",
        "            optimizer.zero_grad()\n",
        "\n",
        "        losses.append(loss.detach().cpu().numpy())\n",
        "        accuracy = torch.mean( ( (output > .5) == (y > .5) ).float() )\n",
        "        accuracies.append(accuracy.detach().cpu().numpy())\n",
        "    \n",
        "    return( np.mean(losses), np.mean(accuracies) )"
      ]
    },
    {
      "cell_type": "code",
      "execution_count": 11,
      "id": "a622e2fd",
      "metadata": {
        "id": "a622e2fd"
      },
      "outputs": [],
      "source": [
        "def train_model(model, train_data, validation_data, epochs=100, patience=10, batch_size=1000, verbose = True):\n",
        "    \"\"\"\n",
        "    Train a 1D CNN model and record accuracy metrics.\n",
        "    \"\"\"\n",
        "    # Move the model to the GPU here to make it runs there, and set \"device\" as above\n",
        "    # TODO CODE\n",
        "    device = torch.device(\"cuda\" if torch.cuda.is_available() else \"cpu\")\n",
        "    model.to(device)\n",
        "\n",
        "    # 1. Make new BedPeakDataset and DataLoader objects for both training and validation data.\n",
        "    # TODO CODE\n",
        "    train_dataset = BedPeaksDataset(train_data)\n",
        "    train_dataloader = torch.utils.data.DataLoader(train_dataset, batch_size=batch_size, num_workers = 3, timeout=600)\n",
        "    validation_dataset = BedPeaksDataset(validation_data)\n",
        "    validation_dataloader = torch.utils.data.DataLoader(validation_dataset, batch_size=batch_size, num_workers = 3, timeout=600)\n",
        "\n",
        "    # 2. Instantiates an optimizer for the model. \n",
        "    # TODO CODE\n",
        "    optimizer = torch.optim.Adam(model.parameters(), amsgrad=True)\n",
        "\n",
        "    # 3. Run the training loop with early stopping. \n",
        "    # TODO CODE\n",
        "    train_accs = []\n",
        "    val_accs = []\n",
        "    train_losses = []\n",
        "    val_losses = []\n",
        "    patience_counter = patience\n",
        "    best_val_loss = np.inf\n",
        "    \n",
        "    try:\n",
        "      os.mkdir('./checkpoints')\n",
        "    except  FileExistsError:\n",
        "      pass\n",
        "    \n",
        "    # Get a list of all the file paths that ends with .txt from in specified directory\n",
        "    fileList = glob.glob('./checkpoints/model_checkpoint*.pt')\n",
        "    # Iterate over the list of filepaths & remove each file.\n",
        "    for filePath in fileList:\n",
        "        try:\n",
        "            os.remove(filePath)\n",
        "        except:\n",
        "            print(\"Error while deleting file : \", filePath)\n",
        "    \n",
        "    \n",
        "    check_point_filename = './checkpoints/model_checkpoint.pt' # to save the best model fit to date\n",
        "    local_min_counter = 0\n",
        "    for epoch in range(epochs):\n",
        "        start_time = timeit.default_timer()\n",
        "        train_loss, train_acc = run_one_epoch(True, train_dataloader, model, optimizer, device)\n",
        "        val_loss, val_acc = run_one_epoch(False, validation_dataloader, model, optimizer, device)\n",
        "        train_accs.append(train_acc)\n",
        "        val_accs.append(val_acc)\n",
        "        train_losses.append(train_loss)\n",
        "        val_losses.append(val_loss)\n",
        "        if val_loss < best_val_loss: \n",
        "            if patience_counter < patience:\n",
        "                local_min_counter = local_min_counter + 1\n",
        "            torch.save(model.state_dict(), f'./checkpoints/model_checkpoint-{local_min_counter}.pt')\n",
        "            best_val_loss = val_loss\n",
        "            patience_counter = patience\n",
        "        else: \n",
        "            patience_counter -= 1\n",
        "            if patience_counter <= 0: \n",
        "                model.load_state_dict(torch.load(f'./checkpoints/model_checkpoint-{local_min_counter}.pt')) # recover the best model so far\n",
        "                break\n",
        "        elapsed = float(timeit.default_timer() - start_time)\n",
        "        print(\"Epoch %i took %.2fs. Train loss: %.4f acc: %.4f. Val loss: %.4f acc: %.4f. Patience left: %i\" % \n",
        "              (epoch+1, elapsed, train_loss, train_acc, val_loss, val_acc, patience_counter ))\n",
        "\n",
        "    # 4. Return the fitted model (not strictly necessary since this happens \"in place\"), train and validation accuracies.\n",
        "    # TODO CODE\n",
        "    return model, train_accs, val_accs, train_losses, val_losses, validation_dataloader"
      ]
    },
    {
      "cell_type": "code",
      "execution_count": 12,
      "id": "8e821f8f",
      "metadata": {
        "id": "8e821f8f"
      },
      "outputs": [],
      "source": [
        "class LSTM(nn.Module):\n",
        "\n",
        "    def __init__(self, \n",
        "                 n_output_channels = 1, \n",
        "                 n_hidden = 32, \n",
        "                 dropout = 0.2,\n",
        "                 n_fc = 1,\n",
        "                 lstm_hidden=10):\n",
        "        \n",
        "        super(LSTM, self).__init__()\n",
        "        self.lstm = nn.Sequential(nn.GRU(5, lstm_hidden, batch_first=True, dropout=dropout))\n",
        "        self.trans = nn.TransformerEncoderLayer(d_model=5, nhead=5, batch_first=True)\n",
        "        fc_layers = [nn.Linear(lstm_hidden, n_hidden)]\n",
        "        for i in range(n_fc-1):\n",
        "            fc_layers += [ nn.Dropout(dropout),\n",
        "                          nn.ELU(inplace=True),\n",
        "                          nn.Linear(n_hidden, n_hidden)\n",
        "            ]\n",
        "        fc_layers += [nn.Dropout(dropout),\n",
        "                      nn.ELU(inplace=True),\n",
        "                      nn.Linear(n_hidden, n_output_channels)\n",
        "        ]\n",
        "        self.dense_net = nn.Sequential(*fc_layers)\n",
        "\n",
        "    def forward(self, x):\n",
        "        x = x.transpose(1, 2)\n",
        "        # x = self.trans(x)\n",
        "        out, _ = self.lstm(x)\n",
        "        out = out[:, -1, :]\n",
        "        out = out.view(out.size(0), -1)\n",
        "        out = self.dense_net(out)\n",
        "        return out"
      ]
    },
    {
      "cell_type": "code",
      "execution_count": 15,
      "id": "f9c1ba50",
      "metadata": {
        "id": "f9c1ba50",
        "outputId": "52079579-4be1-4a5e-e2ee-a43bda847b3d",
        "colab": {
          "base_uri": "https://localhost:8080/",
          "height": 346
        }
      },
      "outputs": [
        {
          "output_type": "error",
          "ename": "KeyboardInterrupt",
          "evalue": "ignored",
          "traceback": [
            "\u001b[0;31m---------------------------------------------------------------------------\u001b[0m",
            "\u001b[0;31mKeyboardInterrupt\u001b[0m                         Traceback (most recent call last)",
            "\u001b[0;32m<ipython-input-15-22792ca4868d>\u001b[0m in \u001b[0;36m<module>\u001b[0;34m()\u001b[0m\n\u001b[1;32m      5\u001b[0m lstm_model, train_accs, val_accs, train_losses, val_losses, lstm_validation_datloader = train_model(lstm_model, data_train\n\u001b[1;32m      6\u001b[0m                                                                          \u001b[0;34m,\u001b[0m \u001b[0mdata_validation\u001b[0m\u001b[0;34m,\u001b[0m \u001b[0mepochs\u001b[0m\u001b[0;34m=\u001b[0m\u001b[0;36m1\u001b[0m\u001b[0;34m\u001b[0m\u001b[0;34m\u001b[0m\u001b[0m\n\u001b[0;32m----> 7\u001b[0;31m                                                                          , patience=20, batch_size=1)\n\u001b[0m",
            "\u001b[0;32m<ipython-input-11-6b135280c373>\u001b[0m in \u001b[0;36mtrain_model\u001b[0;34m(model, train_data, validation_data, epochs, patience, batch_size, verbose)\u001b[0m\n\u001b[1;32m     43\u001b[0m     \u001b[0;32mfor\u001b[0m \u001b[0mepoch\u001b[0m \u001b[0;32min\u001b[0m \u001b[0mrange\u001b[0m\u001b[0;34m(\u001b[0m\u001b[0mepochs\u001b[0m\u001b[0;34m)\u001b[0m\u001b[0;34m:\u001b[0m\u001b[0;34m\u001b[0m\u001b[0;34m\u001b[0m\u001b[0m\n\u001b[1;32m     44\u001b[0m         \u001b[0mstart_time\u001b[0m \u001b[0;34m=\u001b[0m \u001b[0mtimeit\u001b[0m\u001b[0;34m.\u001b[0m\u001b[0mdefault_timer\u001b[0m\u001b[0;34m(\u001b[0m\u001b[0;34m)\u001b[0m\u001b[0;34m\u001b[0m\u001b[0;34m\u001b[0m\u001b[0m\n\u001b[0;32m---> 45\u001b[0;31m         \u001b[0mtrain_loss\u001b[0m\u001b[0;34m,\u001b[0m \u001b[0mtrain_acc\u001b[0m \u001b[0;34m=\u001b[0m \u001b[0mrun_one_epoch\u001b[0m\u001b[0;34m(\u001b[0m\u001b[0;32mTrue\u001b[0m\u001b[0;34m,\u001b[0m \u001b[0mtrain_dataloader\u001b[0m\u001b[0;34m,\u001b[0m \u001b[0mmodel\u001b[0m\u001b[0;34m,\u001b[0m \u001b[0moptimizer\u001b[0m\u001b[0;34m,\u001b[0m \u001b[0mdevice\u001b[0m\u001b[0;34m)\u001b[0m\u001b[0;34m\u001b[0m\u001b[0;34m\u001b[0m\u001b[0m\n\u001b[0m\u001b[1;32m     46\u001b[0m         \u001b[0mval_loss\u001b[0m\u001b[0;34m,\u001b[0m \u001b[0mval_acc\u001b[0m \u001b[0;34m=\u001b[0m \u001b[0mrun_one_epoch\u001b[0m\u001b[0;34m(\u001b[0m\u001b[0;32mFalse\u001b[0m\u001b[0;34m,\u001b[0m \u001b[0mvalidation_dataloader\u001b[0m\u001b[0;34m,\u001b[0m \u001b[0mmodel\u001b[0m\u001b[0;34m,\u001b[0m \u001b[0moptimizer\u001b[0m\u001b[0;34m,\u001b[0m \u001b[0mdevice\u001b[0m\u001b[0;34m)\u001b[0m\u001b[0;34m\u001b[0m\u001b[0;34m\u001b[0m\u001b[0m\n\u001b[1;32m     47\u001b[0m         \u001b[0mtrain_accs\u001b[0m\u001b[0;34m.\u001b[0m\u001b[0mappend\u001b[0m\u001b[0;34m(\u001b[0m\u001b[0mtrain_acc\u001b[0m\u001b[0;34m)\u001b[0m\u001b[0;34m\u001b[0m\u001b[0;34m\u001b[0m\u001b[0m\n",
            "\u001b[0;32m<ipython-input-10-462649f6432d>\u001b[0m in \u001b[0;36mrun_one_epoch\u001b[0;34m(train_flag, dataloader, model, optimizer, device)\u001b[0m\n\u001b[1;32m     16\u001b[0m \u001b[0;34m\u001b[0m\u001b[0m\n\u001b[1;32m     17\u001b[0m         \u001b[0;32mif\u001b[0m \u001b[0mtrain_flag\u001b[0m\u001b[0;34m:\u001b[0m\u001b[0;34m\u001b[0m\u001b[0;34m\u001b[0m\u001b[0m\n\u001b[0;32m---> 18\u001b[0;31m             \u001b[0mloss\u001b[0m\u001b[0;34m.\u001b[0m\u001b[0mbackward\u001b[0m\u001b[0;34m(\u001b[0m\u001b[0;34m)\u001b[0m \u001b[0;31m# back propagation\u001b[0m\u001b[0;34m\u001b[0m\u001b[0;34m\u001b[0m\u001b[0m\n\u001b[0m\u001b[1;32m     19\u001b[0m             \u001b[0moptimizer\u001b[0m\u001b[0;34m.\u001b[0m\u001b[0mstep\u001b[0m\u001b[0;34m(\u001b[0m\u001b[0;34m)\u001b[0m\u001b[0;34m\u001b[0m\u001b[0;34m\u001b[0m\u001b[0m\n\u001b[1;32m     20\u001b[0m             \u001b[0moptimizer\u001b[0m\u001b[0;34m.\u001b[0m\u001b[0mzero_grad\u001b[0m\u001b[0;34m(\u001b[0m\u001b[0;34m)\u001b[0m\u001b[0;34m\u001b[0m\u001b[0;34m\u001b[0m\u001b[0m\n",
            "\u001b[0;32m/usr/local/lib/python3.7/dist-packages/torch/_tensor.py\u001b[0m in \u001b[0;36mbackward\u001b[0;34m(self, gradient, retain_graph, create_graph, inputs)\u001b[0m\n\u001b[1;32m    361\u001b[0m                 \u001b[0mcreate_graph\u001b[0m\u001b[0;34m=\u001b[0m\u001b[0mcreate_graph\u001b[0m\u001b[0;34m,\u001b[0m\u001b[0;34m\u001b[0m\u001b[0;34m\u001b[0m\u001b[0m\n\u001b[1;32m    362\u001b[0m                 inputs=inputs)\n\u001b[0;32m--> 363\u001b[0;31m         \u001b[0mtorch\u001b[0m\u001b[0;34m.\u001b[0m\u001b[0mautograd\u001b[0m\u001b[0;34m.\u001b[0m\u001b[0mbackward\u001b[0m\u001b[0;34m(\u001b[0m\u001b[0mself\u001b[0m\u001b[0;34m,\u001b[0m \u001b[0mgradient\u001b[0m\u001b[0;34m,\u001b[0m \u001b[0mretain_graph\u001b[0m\u001b[0;34m,\u001b[0m \u001b[0mcreate_graph\u001b[0m\u001b[0;34m,\u001b[0m \u001b[0minputs\u001b[0m\u001b[0;34m=\u001b[0m\u001b[0minputs\u001b[0m\u001b[0;34m)\u001b[0m\u001b[0;34m\u001b[0m\u001b[0;34m\u001b[0m\u001b[0m\n\u001b[0m\u001b[1;32m    364\u001b[0m \u001b[0;34m\u001b[0m\u001b[0m\n\u001b[1;32m    365\u001b[0m     \u001b[0;32mdef\u001b[0m \u001b[0mregister_hook\u001b[0m\u001b[0;34m(\u001b[0m\u001b[0mself\u001b[0m\u001b[0;34m,\u001b[0m \u001b[0mhook\u001b[0m\u001b[0;34m)\u001b[0m\u001b[0;34m:\u001b[0m\u001b[0;34m\u001b[0m\u001b[0;34m\u001b[0m\u001b[0m\n",
            "\u001b[0;32m/usr/local/lib/python3.7/dist-packages/torch/autograd/__init__.py\u001b[0m in \u001b[0;36mbackward\u001b[0;34m(tensors, grad_tensors, retain_graph, create_graph, grad_variables, inputs)\u001b[0m\n\u001b[1;32m    173\u001b[0m     Variable._execution_engine.run_backward(  # Calls into the C++ engine to run the backward pass\n\u001b[1;32m    174\u001b[0m         \u001b[0mtensors\u001b[0m\u001b[0;34m,\u001b[0m \u001b[0mgrad_tensors_\u001b[0m\u001b[0;34m,\u001b[0m \u001b[0mretain_graph\u001b[0m\u001b[0;34m,\u001b[0m \u001b[0mcreate_graph\u001b[0m\u001b[0;34m,\u001b[0m \u001b[0minputs\u001b[0m\u001b[0;34m,\u001b[0m\u001b[0;34m\u001b[0m\u001b[0;34m\u001b[0m\u001b[0m\n\u001b[0;32m--> 175\u001b[0;31m         allow_unreachable=True, accumulate_grad=True)  # Calls into the C++ engine to run the backward pass\n\u001b[0m\u001b[1;32m    176\u001b[0m \u001b[0;34m\u001b[0m\u001b[0m\n\u001b[1;32m    177\u001b[0m def grad(\n",
            "\u001b[0;31mKeyboardInterrupt\u001b[0m: "
          ]
        }
      ],
      "source": [
        "torch.cuda.empty_cache()\n",
        "\n",
        "lstm_model = LSTM(dropout=0, n_hidden=32, n_fc=2, lstm_hidden=2)\n",
        "\n",
        "lstm_model, train_accs, val_accs, train_losses, val_losses, lstm_validation_datloader = train_model(lstm_model, data_train\n",
        "                                                                         , data_validation, epochs=1\n",
        "                                                                         , patience=20, batch_size=1)"
      ]
    },
    {
      "cell_type": "code",
      "source": [
        "# torch.Size([361, 5, 770000])\n",
        "while True: pass\n",
        "X = torch.rand(1, 1000, 5)\n",
        "GRU = nn.TransformerEncoder(d_model=40, nhead=8, batch_first=True)\n",
        "o, h = GRU(X)\n",
        "o.shape, h.shape"
      ],
      "metadata": {
        "id": "dxpOReExHdW3"
      },
      "id": "dxpOReExHdW3",
      "execution_count": null,
      "outputs": []
    },
    {
      "cell_type": "code",
      "source": [
        "filename = '/content/drive/MyDrive/percents.csv'\n",
        "key_bins = ['125955', '123912', '269320', '272922', '98843', '129054', '260129', '8226', '288802', '266280', '79921', '44083', '233011', '18485', '48195', '282195', '79956', '219770', '219771', '219772', '265852', '40059', '88188', '175753', '78999', '24728', '129687', '68766', '68767', '194208', '303774', '230563', '65193', '181434', '34495', '305866', '99532', '88273', '139474', '305879', '46313', '2795', '133356', '274160', '285943', '87799', '196354', '212738', '83720', '16141', '16143', '139538', '165661', '250156', '48943', '152380', '240958', '106304', '200028', '31591', '96110', '258421', '108413', '287619', '280981', '33689', '33697', '250791', '139178', '257965', '92082', '123314', '247738', '34758', '11728', '25047', '253439']\n",
        "cols_needed = ['Unnamed: 0', 'Biosample type', 'Biosample name', 'Tissue type', 'Cancer type', 'Region number']\n",
        "\n",
        "df = pd.read_csv(filename, index_col=0, usecols=key_bins + cols_needed)"
      ],
      "metadata": {
        "id": "D0iHcurfFmAq"
      },
      "id": "D0iHcurfFmAq",
      "execution_count": 4,
      "outputs": []
    },
    {
      "cell_type": "code",
      "source": [
        "df['Target'] = df['Cancer type'].apply(lambda cell: 0 if cell == 'Normal' else 1)\n",
        "df = df.drop(['Biosample type', 'Biosample name', 'Tissue type', 'Cancer type', 'Region number'], axis=1)"
      ],
      "metadata": {
        "id": "jm3c_IkAGCU-"
      },
      "id": "jm3c_IkAGCU-",
      "execution_count": 5,
      "outputs": []
    },
    {
      "cell_type": "code",
      "source": [
        "import sklearn\n",
        "X, y = df.iloc[:, :-1], df.iloc[:,-1]\n",
        "X"
      ],
      "metadata": {
        "colab": {
          "base_uri": "https://localhost:8080/",
          "height": 487
        },
        "id": "DhbuMOQxHYAj",
        "outputId": "122ba24c-5691-4805-ef77-abb29583ad88"
      },
      "id": "DhbuMOQxHYAj",
      "execution_count": 6,
      "outputs": [
        {
          "output_type": "execute_result",
          "data": {
            "text/plain": [
              "               2795  8226   11728   16141   16143   18485   24728   25047  \\\n",
              "Sample_0025  0.3296   0.0  0.1137  0.1930  0.1931  0.0560  0.1102  0.0000   \n",
              "Sample_0026  0.2716   0.0  0.1119  0.1886  0.2083  0.0441  0.0647  0.0000   \n",
              "Sample_0027  0.2054   0.0  0.0998  0.0730  0.0000  0.0429  0.2379  0.6225   \n",
              "Sample_0028  0.1332   0.0  0.0955  0.0336  0.0000  0.0441  0.2398  0.5812   \n",
              "Sample_0029  0.3013   0.0  0.0619  0.1342  0.1442  0.0369  0.1462  0.0790   \n",
              "...             ...   ...     ...     ...     ...     ...     ...     ...   \n",
              "Sample_1467  0.0000   0.0  0.0000  0.0355  0.0915  0.0000  0.0309  0.2586   \n",
              "Sample_1468  0.0000   0.0  0.0000  0.0279  0.0828  0.0000  0.0353  0.0000   \n",
              "Sample_1469  0.0000   0.0  0.0000  0.0322  0.1399  0.0000  0.0334  0.1516   \n",
              "Sample_1470  0.0000   0.0  0.0000  0.0528  0.1098  0.0000  0.0000  0.3003   \n",
              "Sample_1471  0.0000   0.0  0.0000  0.0294  0.0190  0.0000  0.0000  0.0621   \n",
              "\n",
              "              31591   33689  ...  272922  274160  280981  282195  285943  \\\n",
              "Sample_0025  0.2380  0.2036  ...  0.1968  0.0854  0.3967  0.0000  0.1573   \n",
              "Sample_0026  0.1875  0.3942  ...  0.1553  0.0510  0.3694  0.0492  0.1211   \n",
              "Sample_0027  0.1662  0.5934  ...  0.1906  0.0000  0.2684  0.0000  0.0124   \n",
              "Sample_0028  0.1187  0.7875  ...  0.1782  0.0000  0.3470  0.0000  0.0190   \n",
              "Sample_0029  0.0832  0.5729  ...  0.1614  0.1334  0.2754  0.0000  0.0000   \n",
              "...             ...     ...  ...     ...     ...     ...     ...     ...   \n",
              "Sample_1467  0.0000  0.5067  ...  0.0855  0.0000  0.0000  0.0000  0.0345   \n",
              "Sample_1468  0.0000  0.4917  ...  0.0719  0.0000  0.0000  0.0000  0.0000   \n",
              "Sample_1469  0.0000  0.5964  ...  0.0541  0.0000  0.0351  0.0000  0.0000   \n",
              "Sample_1470  0.0000  0.5410  ...  0.0691  0.0000  0.0000  0.0000  0.0000   \n",
              "Sample_1471  0.0000  0.0198  ...  0.0000  0.0000  0.0000  0.0000  0.0000   \n",
              "\n",
              "             287619  288802  303774  305866  305879  \n",
              "Sample_0025  0.2230  0.1122  0.0000  0.0000  0.0000  \n",
              "Sample_0026  0.2378  0.0780  0.0000  0.4132  0.4175  \n",
              "Sample_0027  0.0856  0.0463  0.6411  0.2242  0.1836  \n",
              "Sample_0028  0.0516  0.0591  0.3899  0.6777  0.5182  \n",
              "Sample_0029  0.0762  0.0829  0.1243  0.0000  0.0000  \n",
              "...             ...     ...     ...     ...     ...  \n",
              "Sample_1467  0.0374  0.0000  0.0000  0.0000  0.0000  \n",
              "Sample_1468  0.0000  0.0000  0.0000  0.0000  0.0000  \n",
              "Sample_1469  0.0276  0.0000  0.1461  0.0000  0.0000  \n",
              "Sample_1470  0.0347  0.0000  0.0000  0.0000  0.0000  \n",
              "Sample_1471  0.0000  0.0000  0.0000  0.0000  0.0000  \n",
              "\n",
              "[452 rows x 77 columns]"
            ],
            "text/html": [
              "\n",
              "  <div id=\"df-b3c5392a-c977-4c05-9fdc-c7049a2016aa\">\n",
              "    <div class=\"colab-df-container\">\n",
              "      <div>\n",
              "<style scoped>\n",
              "    .dataframe tbody tr th:only-of-type {\n",
              "        vertical-align: middle;\n",
              "    }\n",
              "\n",
              "    .dataframe tbody tr th {\n",
              "        vertical-align: top;\n",
              "    }\n",
              "\n",
              "    .dataframe thead th {\n",
              "        text-align: right;\n",
              "    }\n",
              "</style>\n",
              "<table border=\"1\" class=\"dataframe\">\n",
              "  <thead>\n",
              "    <tr style=\"text-align: right;\">\n",
              "      <th></th>\n",
              "      <th>2795</th>\n",
              "      <th>8226</th>\n",
              "      <th>11728</th>\n",
              "      <th>16141</th>\n",
              "      <th>16143</th>\n",
              "      <th>18485</th>\n",
              "      <th>24728</th>\n",
              "      <th>25047</th>\n",
              "      <th>31591</th>\n",
              "      <th>33689</th>\n",
              "      <th>...</th>\n",
              "      <th>272922</th>\n",
              "      <th>274160</th>\n",
              "      <th>280981</th>\n",
              "      <th>282195</th>\n",
              "      <th>285943</th>\n",
              "      <th>287619</th>\n",
              "      <th>288802</th>\n",
              "      <th>303774</th>\n",
              "      <th>305866</th>\n",
              "      <th>305879</th>\n",
              "    </tr>\n",
              "  </thead>\n",
              "  <tbody>\n",
              "    <tr>\n",
              "      <th>Sample_0025</th>\n",
              "      <td>0.3296</td>\n",
              "      <td>0.0</td>\n",
              "      <td>0.1137</td>\n",
              "      <td>0.1930</td>\n",
              "      <td>0.1931</td>\n",
              "      <td>0.0560</td>\n",
              "      <td>0.1102</td>\n",
              "      <td>0.0000</td>\n",
              "      <td>0.2380</td>\n",
              "      <td>0.2036</td>\n",
              "      <td>...</td>\n",
              "      <td>0.1968</td>\n",
              "      <td>0.0854</td>\n",
              "      <td>0.3967</td>\n",
              "      <td>0.0000</td>\n",
              "      <td>0.1573</td>\n",
              "      <td>0.2230</td>\n",
              "      <td>0.1122</td>\n",
              "      <td>0.0000</td>\n",
              "      <td>0.0000</td>\n",
              "      <td>0.0000</td>\n",
              "    </tr>\n",
              "    <tr>\n",
              "      <th>Sample_0026</th>\n",
              "      <td>0.2716</td>\n",
              "      <td>0.0</td>\n",
              "      <td>0.1119</td>\n",
              "      <td>0.1886</td>\n",
              "      <td>0.2083</td>\n",
              "      <td>0.0441</td>\n",
              "      <td>0.0647</td>\n",
              "      <td>0.0000</td>\n",
              "      <td>0.1875</td>\n",
              "      <td>0.3942</td>\n",
              "      <td>...</td>\n",
              "      <td>0.1553</td>\n",
              "      <td>0.0510</td>\n",
              "      <td>0.3694</td>\n",
              "      <td>0.0492</td>\n",
              "      <td>0.1211</td>\n",
              "      <td>0.2378</td>\n",
              "      <td>0.0780</td>\n",
              "      <td>0.0000</td>\n",
              "      <td>0.4132</td>\n",
              "      <td>0.4175</td>\n",
              "    </tr>\n",
              "    <tr>\n",
              "      <th>Sample_0027</th>\n",
              "      <td>0.2054</td>\n",
              "      <td>0.0</td>\n",
              "      <td>0.0998</td>\n",
              "      <td>0.0730</td>\n",
              "      <td>0.0000</td>\n",
              "      <td>0.0429</td>\n",
              "      <td>0.2379</td>\n",
              "      <td>0.6225</td>\n",
              "      <td>0.1662</td>\n",
              "      <td>0.5934</td>\n",
              "      <td>...</td>\n",
              "      <td>0.1906</td>\n",
              "      <td>0.0000</td>\n",
              "      <td>0.2684</td>\n",
              "      <td>0.0000</td>\n",
              "      <td>0.0124</td>\n",
              "      <td>0.0856</td>\n",
              "      <td>0.0463</td>\n",
              "      <td>0.6411</td>\n",
              "      <td>0.2242</td>\n",
              "      <td>0.1836</td>\n",
              "    </tr>\n",
              "    <tr>\n",
              "      <th>Sample_0028</th>\n",
              "      <td>0.1332</td>\n",
              "      <td>0.0</td>\n",
              "      <td>0.0955</td>\n",
              "      <td>0.0336</td>\n",
              "      <td>0.0000</td>\n",
              "      <td>0.0441</td>\n",
              "      <td>0.2398</td>\n",
              "      <td>0.5812</td>\n",
              "      <td>0.1187</td>\n",
              "      <td>0.7875</td>\n",
              "      <td>...</td>\n",
              "      <td>0.1782</td>\n",
              "      <td>0.0000</td>\n",
              "      <td>0.3470</td>\n",
              "      <td>0.0000</td>\n",
              "      <td>0.0190</td>\n",
              "      <td>0.0516</td>\n",
              "      <td>0.0591</td>\n",
              "      <td>0.3899</td>\n",
              "      <td>0.6777</td>\n",
              "      <td>0.5182</td>\n",
              "    </tr>\n",
              "    <tr>\n",
              "      <th>Sample_0029</th>\n",
              "      <td>0.3013</td>\n",
              "      <td>0.0</td>\n",
              "      <td>0.0619</td>\n",
              "      <td>0.1342</td>\n",
              "      <td>0.1442</td>\n",
              "      <td>0.0369</td>\n",
              "      <td>0.1462</td>\n",
              "      <td>0.0790</td>\n",
              "      <td>0.0832</td>\n",
              "      <td>0.5729</td>\n",
              "      <td>...</td>\n",
              "      <td>0.1614</td>\n",
              "      <td>0.1334</td>\n",
              "      <td>0.2754</td>\n",
              "      <td>0.0000</td>\n",
              "      <td>0.0000</td>\n",
              "      <td>0.0762</td>\n",
              "      <td>0.0829</td>\n",
              "      <td>0.1243</td>\n",
              "      <td>0.0000</td>\n",
              "      <td>0.0000</td>\n",
              "    </tr>\n",
              "    <tr>\n",
              "      <th>...</th>\n",
              "      <td>...</td>\n",
              "      <td>...</td>\n",
              "      <td>...</td>\n",
              "      <td>...</td>\n",
              "      <td>...</td>\n",
              "      <td>...</td>\n",
              "      <td>...</td>\n",
              "      <td>...</td>\n",
              "      <td>...</td>\n",
              "      <td>...</td>\n",
              "      <td>...</td>\n",
              "      <td>...</td>\n",
              "      <td>...</td>\n",
              "      <td>...</td>\n",
              "      <td>...</td>\n",
              "      <td>...</td>\n",
              "      <td>...</td>\n",
              "      <td>...</td>\n",
              "      <td>...</td>\n",
              "      <td>...</td>\n",
              "      <td>...</td>\n",
              "    </tr>\n",
              "    <tr>\n",
              "      <th>Sample_1467</th>\n",
              "      <td>0.0000</td>\n",
              "      <td>0.0</td>\n",
              "      <td>0.0000</td>\n",
              "      <td>0.0355</td>\n",
              "      <td>0.0915</td>\n",
              "      <td>0.0000</td>\n",
              "      <td>0.0309</td>\n",
              "      <td>0.2586</td>\n",
              "      <td>0.0000</td>\n",
              "      <td>0.5067</td>\n",
              "      <td>...</td>\n",
              "      <td>0.0855</td>\n",
              "      <td>0.0000</td>\n",
              "      <td>0.0000</td>\n",
              "      <td>0.0000</td>\n",
              "      <td>0.0345</td>\n",
              "      <td>0.0374</td>\n",
              "      <td>0.0000</td>\n",
              "      <td>0.0000</td>\n",
              "      <td>0.0000</td>\n",
              "      <td>0.0000</td>\n",
              "    </tr>\n",
              "    <tr>\n",
              "      <th>Sample_1468</th>\n",
              "      <td>0.0000</td>\n",
              "      <td>0.0</td>\n",
              "      <td>0.0000</td>\n",
              "      <td>0.0279</td>\n",
              "      <td>0.0828</td>\n",
              "      <td>0.0000</td>\n",
              "      <td>0.0353</td>\n",
              "      <td>0.0000</td>\n",
              "      <td>0.0000</td>\n",
              "      <td>0.4917</td>\n",
              "      <td>...</td>\n",
              "      <td>0.0719</td>\n",
              "      <td>0.0000</td>\n",
              "      <td>0.0000</td>\n",
              "      <td>0.0000</td>\n",
              "      <td>0.0000</td>\n",
              "      <td>0.0000</td>\n",
              "      <td>0.0000</td>\n",
              "      <td>0.0000</td>\n",
              "      <td>0.0000</td>\n",
              "      <td>0.0000</td>\n",
              "    </tr>\n",
              "    <tr>\n",
              "      <th>Sample_1469</th>\n",
              "      <td>0.0000</td>\n",
              "      <td>0.0</td>\n",
              "      <td>0.0000</td>\n",
              "      <td>0.0322</td>\n",
              "      <td>0.1399</td>\n",
              "      <td>0.0000</td>\n",
              "      <td>0.0334</td>\n",
              "      <td>0.1516</td>\n",
              "      <td>0.0000</td>\n",
              "      <td>0.5964</td>\n",
              "      <td>...</td>\n",
              "      <td>0.0541</td>\n",
              "      <td>0.0000</td>\n",
              "      <td>0.0351</td>\n",
              "      <td>0.0000</td>\n",
              "      <td>0.0000</td>\n",
              "      <td>0.0276</td>\n",
              "      <td>0.0000</td>\n",
              "      <td>0.1461</td>\n",
              "      <td>0.0000</td>\n",
              "      <td>0.0000</td>\n",
              "    </tr>\n",
              "    <tr>\n",
              "      <th>Sample_1470</th>\n",
              "      <td>0.0000</td>\n",
              "      <td>0.0</td>\n",
              "      <td>0.0000</td>\n",
              "      <td>0.0528</td>\n",
              "      <td>0.1098</td>\n",
              "      <td>0.0000</td>\n",
              "      <td>0.0000</td>\n",
              "      <td>0.3003</td>\n",
              "      <td>0.0000</td>\n",
              "      <td>0.5410</td>\n",
              "      <td>...</td>\n",
              "      <td>0.0691</td>\n",
              "      <td>0.0000</td>\n",
              "      <td>0.0000</td>\n",
              "      <td>0.0000</td>\n",
              "      <td>0.0000</td>\n",
              "      <td>0.0347</td>\n",
              "      <td>0.0000</td>\n",
              "      <td>0.0000</td>\n",
              "      <td>0.0000</td>\n",
              "      <td>0.0000</td>\n",
              "    </tr>\n",
              "    <tr>\n",
              "      <th>Sample_1471</th>\n",
              "      <td>0.0000</td>\n",
              "      <td>0.0</td>\n",
              "      <td>0.0000</td>\n",
              "      <td>0.0294</td>\n",
              "      <td>0.0190</td>\n",
              "      <td>0.0000</td>\n",
              "      <td>0.0000</td>\n",
              "      <td>0.0621</td>\n",
              "      <td>0.0000</td>\n",
              "      <td>0.0198</td>\n",
              "      <td>...</td>\n",
              "      <td>0.0000</td>\n",
              "      <td>0.0000</td>\n",
              "      <td>0.0000</td>\n",
              "      <td>0.0000</td>\n",
              "      <td>0.0000</td>\n",
              "      <td>0.0000</td>\n",
              "      <td>0.0000</td>\n",
              "      <td>0.0000</td>\n",
              "      <td>0.0000</td>\n",
              "      <td>0.0000</td>\n",
              "    </tr>\n",
              "  </tbody>\n",
              "</table>\n",
              "<p>452 rows × 77 columns</p>\n",
              "</div>\n",
              "      <button class=\"colab-df-convert\" onclick=\"convertToInteractive('df-b3c5392a-c977-4c05-9fdc-c7049a2016aa')\"\n",
              "              title=\"Convert this dataframe to an interactive table.\"\n",
              "              style=\"display:none;\">\n",
              "        \n",
              "  <svg xmlns=\"http://www.w3.org/2000/svg\" height=\"24px\"viewBox=\"0 0 24 24\"\n",
              "       width=\"24px\">\n",
              "    <path d=\"M0 0h24v24H0V0z\" fill=\"none\"/>\n",
              "    <path d=\"M18.56 5.44l.94 2.06.94-2.06 2.06-.94-2.06-.94-.94-2.06-.94 2.06-2.06.94zm-11 1L8.5 8.5l.94-2.06 2.06-.94-2.06-.94L8.5 2.5l-.94 2.06-2.06.94zm10 10l.94 2.06.94-2.06 2.06-.94-2.06-.94-.94-2.06-.94 2.06-2.06.94z\"/><path d=\"M17.41 7.96l-1.37-1.37c-.4-.4-.92-.59-1.43-.59-.52 0-1.04.2-1.43.59L10.3 9.45l-7.72 7.72c-.78.78-.78 2.05 0 2.83L4 21.41c.39.39.9.59 1.41.59.51 0 1.02-.2 1.41-.59l7.78-7.78 2.81-2.81c.8-.78.8-2.07 0-2.86zM5.41 20L4 18.59l7.72-7.72 1.47 1.35L5.41 20z\"/>\n",
              "  </svg>\n",
              "      </button>\n",
              "      \n",
              "  <style>\n",
              "    .colab-df-container {\n",
              "      display:flex;\n",
              "      flex-wrap:wrap;\n",
              "      gap: 12px;\n",
              "    }\n",
              "\n",
              "    .colab-df-convert {\n",
              "      background-color: #E8F0FE;\n",
              "      border: none;\n",
              "      border-radius: 50%;\n",
              "      cursor: pointer;\n",
              "      display: none;\n",
              "      fill: #1967D2;\n",
              "      height: 32px;\n",
              "      padding: 0 0 0 0;\n",
              "      width: 32px;\n",
              "    }\n",
              "\n",
              "    .colab-df-convert:hover {\n",
              "      background-color: #E2EBFA;\n",
              "      box-shadow: 0px 1px 2px rgba(60, 64, 67, 0.3), 0px 1px 3px 1px rgba(60, 64, 67, 0.15);\n",
              "      fill: #174EA6;\n",
              "    }\n",
              "\n",
              "    [theme=dark] .colab-df-convert {\n",
              "      background-color: #3B4455;\n",
              "      fill: #D2E3FC;\n",
              "    }\n",
              "\n",
              "    [theme=dark] .colab-df-convert:hover {\n",
              "      background-color: #434B5C;\n",
              "      box-shadow: 0px 1px 3px 1px rgba(0, 0, 0, 0.15);\n",
              "      filter: drop-shadow(0px 1px 2px rgba(0, 0, 0, 0.3));\n",
              "      fill: #FFFFFF;\n",
              "    }\n",
              "  </style>\n",
              "\n",
              "      <script>\n",
              "        const buttonEl =\n",
              "          document.querySelector('#df-b3c5392a-c977-4c05-9fdc-c7049a2016aa button.colab-df-convert');\n",
              "        buttonEl.style.display =\n",
              "          google.colab.kernel.accessAllowed ? 'block' : 'none';\n",
              "\n",
              "        async function convertToInteractive(key) {\n",
              "          const element = document.querySelector('#df-b3c5392a-c977-4c05-9fdc-c7049a2016aa');\n",
              "          const dataTable =\n",
              "            await google.colab.kernel.invokeFunction('convertToInteractive',\n",
              "                                                     [key], {});\n",
              "          if (!dataTable) return;\n",
              "\n",
              "          const docLinkHtml = 'Like what you see? Visit the ' +\n",
              "            '<a target=\"_blank\" href=https://colab.research.google.com/notebooks/data_table.ipynb>data table notebook</a>'\n",
              "            + ' to learn more about interactive tables.';\n",
              "          element.innerHTML = '';\n",
              "          dataTable['output_type'] = 'display_data';\n",
              "          await google.colab.output.renderOutput(dataTable, element);\n",
              "          const docLink = document.createElement('div');\n",
              "          docLink.innerHTML = docLinkHtml;\n",
              "          element.appendChild(docLink);\n",
              "        }\n",
              "      </script>\n",
              "    </div>\n",
              "  </div>\n",
              "  "
            ]
          },
          "metadata": {},
          "execution_count": 6
        }
      ]
    },
    {
      "cell_type": "code",
      "source": [
        "from sklearn.model_selection import train_test_split\n",
        "\n",
        "X_train, X_test, y_train, y_test = train_test_split(\n",
        "        X, y, test_size=0.2, random_state=42\n",
        "    )"
      ],
      "metadata": {
        "id": "Htj5v8hSQKCn"
      },
      "id": "Htj5v8hSQKCn",
      "execution_count": 7,
      "outputs": []
    },
    {
      "cell_type": "code",
      "source": [
        "import xgboost as xgb\n",
        "\n",
        "xg_reg = xgb.XGBRegressor(objective ='reg:squarederror', colsample_bytree = 0.3, learning_rate = 0.1,\n",
        "                max_depth = 5, alpha = 10, n_estimators = 10)\n",
        "\n",
        "xg_reg.fit(X_train,y_train)\n",
        "\n",
        "preds = xg_reg.predict(X_test)"
      ],
      "metadata": {
        "id": "0td8i_8eRtVE"
      },
      "id": "0td8i_8eRtVE",
      "execution_count": 8,
      "outputs": []
    },
    {
      "cell_type": "code",
      "source": [
        "from sklearn.metrics import accuracy_score, roc_curve, plot_roc_curve\n",
        "import matplotlib.pyplot as plt\n",
        "\n",
        "for thresh in np.linspace(0, 1, 11):\n",
        "  print(\"thresh:\", thresh, \", acc:\", accuracy_score(y_test, preds > thresh))"
      ],
      "metadata": {
        "colab": {
          "base_uri": "https://localhost:8080/"
        },
        "id": "N8OT-zkqSbMJ",
        "outputId": "c745ea14-23a0-4431-94a2-b73a748fa4e4"
      },
      "id": "N8OT-zkqSbMJ",
      "execution_count": 9,
      "outputs": [
        {
          "output_type": "stream",
          "name": "stdout",
          "text": [
            "thresh: 0.0 , acc: 0.38461538461538464\n",
            "thresh: 0.1 , acc: 0.38461538461538464\n",
            "thresh: 0.2 , acc: 0.6373626373626373\n",
            "thresh: 0.30000000000000004 , acc: 0.8131868131868132\n",
            "thresh: 0.4 , acc: 0.9010989010989011\n",
            "thresh: 0.5 , acc: 0.9120879120879121\n",
            "thresh: 0.6000000000000001 , acc: 0.8351648351648352\n",
            "thresh: 0.7000000000000001 , acc: 0.7472527472527473\n",
            "thresh: 0.8 , acc: 0.6263736263736264\n",
            "thresh: 0.9 , acc: 0.6153846153846154\n",
            "thresh: 1.0 , acc: 0.6153846153846154\n"
          ]
        }
      ]
    },
    {
      "cell_type": "code",
      "source": [
        "from sklearn import svm\n",
        "\n",
        "clf = svm.SVC(random_state=0)\n",
        "clf.fit(X_train, y_train)\n",
        "preds_svm = clf.predict(X_test)"
      ],
      "metadata": {
        "id": "yEOO-jucWS8x"
      },
      "id": "yEOO-jucWS8x",
      "execution_count": 10,
      "outputs": []
    },
    {
      "cell_type": "code",
      "source": [
        "accuracy_score(y_test, preds_svm)"
      ],
      "metadata": {
        "colab": {
          "base_uri": "https://localhost:8080/"
        },
        "id": "gqo_pAdG5lH2",
        "outputId": "0c69e93b-b5ff-4c44-d49e-cef7c5f31b5d"
      },
      "id": "gqo_pAdG5lH2",
      "execution_count": 12,
      "outputs": [
        {
          "output_type": "execute_result",
          "data": {
            "text/plain": [
              "0.8461538461538461"
            ]
          },
          "metadata": {},
          "execution_count": 12
        }
      ]
    },
    {
      "cell_type": "code",
      "source": [
        "from sklearn.metrics import precision_recall_fscore_support, confusion_matrix\n",
        "\n",
        "print('XGBoost')\n",
        "tpr = sklearn.metrics.recall_score(y_test, preds > 0.5)\n",
        "f1 = sklearn.metrics.f1_score(y_test, preds > 0.5)\n",
        "precision = sklearn.metrics.precision_score(y_test, preds > 0.5)\n",
        "print(f'prec: {precision}, tpr: {tpr}, f1: {f1}')\n",
        "print('SVM')\n",
        "tpr = sklearn.metrics.recall_score(y_test, preds_svm)\n",
        "f1 = sklearn.metrics.f1_score(y_test, preds_svm)\n",
        "precision = sklearn.metrics.precision_score(y_test, preds_svm)\n",
        "print(f'prec: {precision}, tpr: {tpr}, f1: {f1}')"
      ],
      "metadata": {
        "colab": {
          "base_uri": "https://localhost:8080/"
        },
        "id": "5OtHrFRj-iTz",
        "outputId": "9e0fdd9a-b105-4db6-98e3-315cb4a18943"
      },
      "id": "5OtHrFRj-iTz",
      "execution_count": 11,
      "outputs": [
        {
          "output_type": "stream",
          "name": "stdout",
          "text": [
            "XGBoost\n",
            "prec: 0.9090909090909091, tpr: 0.8571428571428571, f1: 0.8823529411764706\n",
            "SVM\n",
            "prec: 0.7441860465116279, tpr: 0.9142857142857143, f1: 0.8205128205128205\n"
          ]
        }
      ]
    },
    {
      "cell_type": "code",
      "source": [
        "def calculate_cm(y_true, y_pred):\n",
        "  fp = np.sum((y_pred == 1) & (y_true == 0))\n",
        "  tp = np.sum((y_pred == 1) & (y_true == 1))\n",
        "\n",
        "  fn = np.sum((y_pred == 0) & (y_true == 1))\n",
        "  tn = np.sum((y_pred == 0) & (y_true == 0))\n",
        "  return tp, fp, fn, tn\n",
        "\n",
        "def calculate_recall(tp, fp, fn, tn):\n",
        "  return (tp)/(tp + fn)\n",
        "\n",
        "def calculate_fallout(tp, fp, fn, tn):\n",
        "  return (fp)/(fp + tn)\n",
        "\n",
        "tp, fp, fn, tn = calculate_cm(y_test, preds_svm)\n",
        "print(calculate_recall(tp, fp, fn, tn))\n",
        "print(calculate_fallout(tp,fp,fn,tn))"
      ],
      "metadata": {
        "colab": {
          "base_uri": "https://localhost:8080/"
        },
        "id": "TqwZHrFBHRqb",
        "outputId": "5ba764ed-0759-4224-bcb7-d46049827538"
      },
      "id": "TqwZHrFBHRqb",
      "execution_count": 13,
      "outputs": [
        {
          "output_type": "stream",
          "name": "stdout",
          "text": [
            "0.9142857142857143\n",
            "0.19642857142857142\n"
          ]
        }
      ]
    },
    {
      "cell_type": "code",
      "source": [
        "from sklearn.linear_model import LinearRegression, LogisticRegression, Ridge, Lasso\n",
        "\n",
        "linear = LinearRegression()\n",
        "linear.fit(X_train, y_train)\n",
        "preds_ln = linear.predict(X_test)"
      ],
      "metadata": {
        "id": "nk9vj5UnDmfP"
      },
      "id": "nk9vj5UnDmfP",
      "execution_count": 14,
      "outputs": []
    },
    {
      "cell_type": "code",
      "source": [
        "# for thresh in np.linspace(0, 1, 11):\n",
        "#   print(\"thresh:\", thresh, \", acc:\", accuracy_score(y_test, preds_ln > thresh))\n",
        "thresh = 0.5\n",
        "tpr = sklearn.metrics.recall_score(y_test, preds_ln > thresh)\n",
        "f1 = sklearn.metrics.f1_score(y_test, preds_ln > thresh)\n",
        "precision = sklearn.metrics.precision_score(y_test, preds_ln > thresh)\n",
        "print(f\"acc: {accuracy_score(y_test, preds_ln > thresh)}\")\n",
        "print(f'prec: {precision}, tpr: {tpr}, f1: {f1}')\n",
        "tp, fp, fn, tn = calculate_cm(y_test, preds_ln > thresh)\n",
        "print(calculate_recall(tp, fp, fn, tn))\n",
        "print(calculate_fallout(tp,fp,fn,tn))"
      ],
      "metadata": {
        "colab": {
          "base_uri": "https://localhost:8080/"
        },
        "id": "UXZI9fiLPuXF",
        "outputId": "b2697365-a619-49ad-b300-419b57fdbd1a"
      },
      "id": "UXZI9fiLPuXF",
      "execution_count": 15,
      "outputs": [
        {
          "output_type": "stream",
          "name": "stdout",
          "text": [
            "acc: 0.8681318681318682\n",
            "prec: 0.8709677419354839, tpr: 0.7714285714285715, f1: 0.8181818181818182\n",
            "0.7714285714285715\n",
            "0.07142857142857142\n"
          ]
        }
      ]
    },
    {
      "cell_type": "code",
      "source": [
        "from sklearn.model_selection import cross_val_score\n",
        "\n",
        "def run_cv(model):\n",
        "  # - cross validataion\n",
        "  scores = cross_val_score(model, X_train, y_train, cv=5)\n",
        "  print(\"Mean cross-validation score: %.2f\" % scores.mean())\n",
        "\n",
        "  y_pred = model.predict(X_test)\n",
        "  if type(y_pred[0]) == np.float32 or type(y_pred[0]) == np.float64:\n",
        "    cm = confusion_matrix(y_test,y_pred > 0.5)\n",
        "  else:\n",
        "    cm = confusion_matrix(y_test,y_pred)\n",
        "  print(cm)"
      ],
      "metadata": {
        "id": "2iNQHiqAb5BB"
      },
      "id": "2iNQHiqAb5BB",
      "execution_count": 16,
      "outputs": []
    },
    {
      "cell_type": "code",
      "source": [
        "run_cv(xg_reg)\n",
        "run_cv(clf)\n",
        "run_cv(linear)"
      ],
      "metadata": {
        "colab": {
          "base_uri": "https://localhost:8080/"
        },
        "id": "nzHAoAySj-hR",
        "outputId": "82536605-2b90-479f-866f-3f83278cd9f2"
      },
      "id": "nzHAoAySj-hR",
      "execution_count": 17,
      "outputs": [
        {
          "output_type": "stream",
          "name": "stdout",
          "text": [
            "Mean cross-validation score: 0.38\n",
            "[[53  3]\n",
            " [ 5 30]]\n",
            "Mean cross-validation score: 0.79\n",
            "[[45 11]\n",
            " [ 3 32]]\n",
            "Mean cross-validation score: 0.34\n",
            "[[52  4]\n",
            " [ 8 27]]\n"
          ]
        }
      ]
    },
    {
      "cell_type": "code",
      "source": [
        "from sklearn.metrics import roc_auc_score\n",
        "\n",
        "fpr_xgb, tpr_xgb, thresholds = roc_curve(y_test, preds, drop_intermediate=True)\n",
        "auc_xgb = roc_auc_score(y_test, preds)\n",
        "fpr_svm, tpr_svm, thresholds = roc_curve(y_test, preds_svm, drop_intermediate=True)\n",
        "auc_svm = roc_auc_score(y_test, preds_svm)\n",
        "fpr_lin, tpr_lin, thresholds = roc_curve(y_test, preds_ln, drop_intermediate=True)\n",
        "auc_lin = roc_auc_score(y_test, preds_ln)\n",
        "plt.plot(fpr_xgb, tpr_xgb, label=f\"XGBoost ROC Area = {auc_xgb:.3}\")\n",
        "plt.plot(fpr_svm, tpr_svm, label=f\"SVM ROC Area = {auc_svm:.3}\")\n",
        "plt.plot(fpr_lin, tpr_lin, label=f\"Linear Regression ROC Area = {auc_lin:.3}\")\n",
        "plt.plot([0, 1], [0, 1], '--r', lw=1)\n",
        "plt.legend()"
      ],
      "metadata": {
        "colab": {
          "base_uri": "https://localhost:8080/",
          "height": 282
        },
        "id": "7sup_WCxUba9",
        "outputId": "08535722-c951-41b7-a70d-40801f8566b2"
      },
      "id": "7sup_WCxUba9",
      "execution_count": 18,
      "outputs": [
        {
          "output_type": "execute_result",
          "data": {
            "text/plain": [
              "<matplotlib.legend.Legend at 0x7f09595af850>"
            ]
          },
          "metadata": {},
          "execution_count": 18
        },
        {
          "output_type": "display_data",
          "data": {
            "text/plain": [
              "<Figure size 432x288 with 1 Axes>"
            ],
            "image/png": "[encoded data removed]"
          },
          "metadata": {
            "needs_background": "light"
          }
        }
      ]
    },
    {
      "cell_type": "code",
      "source": [
        "from sklearn.decomposition import PCA\n",
        "from sklearn.preprocessing import StandardScaler\n",
        "\n",
        "pca = PCA(n_components=50)\n",
        "pca.fit(X_train)"
      ],
      "metadata": {
        "id": "5HFH63l6t2al"
      },
      "id": "5HFH63l6t2al",
      "execution_count": null,
      "outputs": []
    },
    {
      "cell_type": "code",
      "source": [
        "X_train_pcs = pca.transform(X_train)\n",
        "X_test_pcs = pca.transform(X_test)"
      ],
      "metadata": {
        "id": "XxsheyFtuaxt"
      },
      "id": "XxsheyFtuaxt",
      "execution_count": null,
      "outputs": []
    },
    {
      "cell_type": "code",
      "source": [
        "from sklearn.preprocessing import MinMaxScaler\n",
        "\n",
        "ln_pc = LinearRegression()\n",
        "# scaler = MinMaxScaler()\n",
        "# scaler.fit(X_train_pcs)\n",
        "# X_train_pcs = scaler.transform(X_train_pcs)\n",
        "# X_test_pcs = scaler.transform(X_test_pcs)\n",
        "ln_pc.fit(X_train, y_train)\n",
        "preds_pcs = ln_pc.predict(X_test)"
      ],
      "metadata": {
        "id": "CJc8GX0ExeUj"
      },
      "id": "CJc8GX0ExeUj",
      "execution_count": 19,
      "outputs": []
    },
    {
      "cell_type": "code",
      "source": [
        "data_train, data_rem = train_test_split(df, train_size=0.8, random_state=543)\n",
        "data_validation, data_test = train_test_split(data_rem, test_size=0.5, random_state=82)"
      ],
      "metadata": {
        "id": "QX07ovB97CeQ"
      },
      "id": "QX07ovB97CeQ",
      "execution_count": 20,
      "outputs": []
    },
    {
      "cell_type": "code",
      "source": [
        "pca.fit(data_train.iloc[:,:-1])"
      ],
      "metadata": {
        "id": "umrCpQkh7MDc"
      },
      "id": "umrCpQkh7MDc",
      "execution_count": null,
      "outputs": []
    },
    {
      "cell_type": "code",
      "source": [
        "data_train_y, data_train_new = data_train.iloc[:,-1], data_train.iloc[:,:-1]\n",
        "# scaler.fit(data_train_new)\n",
        "# data_train_new = scaler.transform(data_train_new)\n",
        "data_val_y, data_validation_new = data_validation.iloc[:,-1], data_validation.iloc[:,:-1]\n",
        "# data_validation_new = scaler.transform(data_validation_new)\n",
        "data_test_y, data_test_new = data_test.iloc[:,-1], data_test.iloc[:,:-1]\n",
        "# data_test_new = scaler.transform(data_test_new)"
      ],
      "metadata": {
        "id": "xH3gJsuy7cJ4"
      },
      "id": "xH3gJsuy7cJ4",
      "execution_count": 23,
      "outputs": []
    },
    {
      "cell_type": "code",
      "source": [
        "confusion_matrices = {}\n",
        "models = {0: \"Linear Regression\", 1: \"Ridge Regression\", 2: \"Lasso Regression\", 3: \"SVM\", 4: \"XGBoost\", 5: \"Logistic Regression\", 6: \"DNN\"}"
      ],
      "metadata": {
        "id": "BzbahHEyi9fY"
      },
      "id": "BzbahHEyi9fY",
      "execution_count": 21,
      "outputs": []
    },
    {
      "cell_type": "code",
      "source": [
        "lin = LinearRegression()\n",
        "lin.fit(data_train_new, data_train_y)\n",
        "val_preds_lin = lin.predict(data_test_new)\n",
        "confusion_matrices[\"Linear Regression\"] = confusion_matrix(data_test_y, val_preds_lin > 0.25)\n",
        "\n",
        "thresh = 0.3\n",
        "tpr = sklearn.metrics.recall_score(data_test_y, val_preds_lin > thresh)\n",
        "f1 = sklearn.metrics.f1_score(data_test_y, val_preds_lin > thresh)\n",
        "precision = sklearn.metrics.precision_score(data_test_y, val_preds_lin > thresh)\n",
        "print(f\"acc: {accuracy_score(data_test_y, val_preds_lin > thresh)}\")\n",
        "print(f'prec: {precision}, tpr: {tpr}, f1: {f1}')\n",
        "tp, fp, fn, tn = calculate_cm(data_test_y, val_preds_lin > thresh)\n",
        "print(calculate_recall(tp, fp, fn, tn))\n",
        "print(calculate_fallout(tp,fp,fn,tn))"
      ],
      "metadata": {
        "colab": {
          "base_uri": "https://localhost:8080/"
        },
        "id": "hCgGkQACWd1m",
        "outputId": "c7ec915a-69fe-4fee-8ae4-765db2929e97"
      },
      "id": "hCgGkQACWd1m",
      "execution_count": 36,
      "outputs": [
        {
          "output_type": "stream",
          "name": "stdout",
          "text": [
            "acc: 0.8478260869565217\n",
            "prec: 0.7142857142857143, tpr: 0.9375, f1: 0.8108108108108109\n",
            "0.9375\n",
            "0.2\n"
          ]
        }
      ]
    },
    {
      "cell_type": "code",
      "source": [
        "svmm = svm.SVC()\n",
        "svmm.fit(data_train_new, data_train_y)\n",
        "val_preds_svm = svmm.predict(data_test_new)\n",
        "confusion_matrices[\"SVM\"] = confusion_matrix(data_test_y, val_preds_svm)\n",
        "\n",
        "thresh = 0.5\n",
        "tpr = sklearn.metrics.recall_score(data_test_y, val_preds_svm > thresh)\n",
        "f1 = sklearn.metrics.f1_score(data_test_y, val_preds_svm > thresh)\n",
        "precision = sklearn.metrics.precision_score(data_test_y, val_preds_svm > thresh)\n",
        "print(f\"acc: {accuracy_score(data_test_y, val_preds_svm > thresh)}\")\n",
        "print(f'prec: {precision}, tpr: {tpr}, f1: {f1}')\n",
        "tp, fp, fn, tn = calculate_cm(data_test_y, val_preds_svm > thresh)\n",
        "print(calculate_recall(tp, fp, fn, tn))\n",
        "print(calculate_fallout(tp,fp,fn,tn))"
      ],
      "metadata": {
        "colab": {
          "base_uri": "https://localhost:8080/"
        },
        "id": "vPJYX_dG9KaI",
        "outputId": "12d0c35a-0f96-47f1-f5da-775161d7bdb4"
      },
      "id": "vPJYX_dG9KaI",
      "execution_count": 26,
      "outputs": [
        {
          "output_type": "stream",
          "name": "stdout",
          "text": [
            "acc: 0.8695652173913043\n",
            "prec: 0.75, tpr: 0.9375, f1: 0.8333333333333334\n",
            "0.9375\n",
            "0.16666666666666666\n"
          ]
        }
      ]
    },
    {
      "cell_type": "code",
      "source": [
        "rid = Ridge(alpha=0.01)\n",
        "rid.fit(data_train_new, data_train_y)\n",
        "val_preds_rid = rid.predict(data_test_new)\n",
        "confusion_matrices[\"Ridge Regression\"] = confusion_matrix(data_test_y, val_preds_rid > 0.27)\n",
        "\n",
        "thresh = 0.4\n",
        "tpr = sklearn.metrics.recall_score(data_test_y, val_preds_rid > thresh)\n",
        "f1 = sklearn.metrics.f1_score(data_test_y, val_preds_rid > thresh)\n",
        "precision = sklearn.metrics.precision_score(data_test_y, val_preds_rid > thresh)\n",
        "print(f\"acc: {accuracy_score(data_test_y, val_preds_rid > thresh)}\")\n",
        "print(f'prec: {precision}, tpr: {tpr}, f1: {f1}')\n",
        "tp, fp, fn, tn = calculate_cm(data_test_y, val_preds_rid > thresh)\n",
        "print(calculate_recall(tp, fp, fn, tn))\n",
        "print(calculate_fallout(tp,fp,fn,tn))"
      ],
      "metadata": {
        "colab": {
          "base_uri": "https://localhost:8080/"
        },
        "id": "WiD6sby0XFGP",
        "outputId": "cca58522-25a5-4ee2-f201-accf1be87a01"
      },
      "id": "WiD6sby0XFGP",
      "execution_count": 37,
      "outputs": [
        {
          "output_type": "stream",
          "name": "stdout",
          "text": [
            "acc: 0.8695652173913043\n",
            "prec: 0.8125, tpr: 0.8125, f1: 0.8125\n",
            "0.8125\n",
            "0.1\n"
          ]
        }
      ]
    },
    {
      "cell_type": "code",
      "source": [
        "lasso = Lasso(alpha=0.01)\n",
        "lasso.fit(data_train_new, data_train_y)\n",
        "val_preds_lasso = lasso.predict(data_test_new)\n",
        "confusion_matrices[\"Lasso Regression\"] = confusion_matrix(data_test_y, val_preds_lasso > 0.36)\n",
        "\n",
        "thresh = 0.4\n",
        "tpr = sklearn.metrics.recall_score(data_test_y, val_preds_lasso > thresh)\n",
        "f1 = sklearn.metrics.f1_score(data_test_y, val_preds_lasso > thresh)\n",
        "precision = sklearn.metrics.precision_score(data_test_y, val_preds_lasso > thresh)\n",
        "print(f\"acc: {accuracy_score(data_test_y, val_preds_lasso > thresh)}\")\n",
        "print(f'prec: {precision}, tpr: {tpr}, f1: {f1}')\n",
        "tp, fp, fn, tn = calculate_cm(data_test_y, val_preds_lasso > thresh)\n",
        "print(calculate_recall(tp, fp, fn, tn))\n",
        "print(calculate_fallout(tp,fp,fn,tn))"
      ],
      "metadata": {
        "colab": {
          "base_uri": "https://localhost:8080/"
        },
        "id": "_dGfempdhfhJ",
        "outputId": "c1c64a49-bc21-4033-f549-ae8c1ab158ed"
      },
      "id": "_dGfempdhfhJ",
      "execution_count": 43,
      "outputs": [
        {
          "output_type": "stream",
          "name": "stdout",
          "text": [
            "acc: 0.7608695652173914\n",
            "prec: 0.631578947368421, tpr: 0.75, f1: 0.6857142857142857\n",
            "0.75\n",
            "0.23333333333333334\n"
          ]
        }
      ]
    },
    {
      "cell_type": "code",
      "source": [
        "log = LogisticRegression()\n",
        "log.fit(data_train_new, data_train_y)\n",
        "val_preds_log = log.predict(data_test_new)\n",
        "confusion_matrices[\"Logistic Regression\"] = confusion_matrix(data_test_y, val_preds_log > 0.4)\n",
        "\n",
        "thresh = 0.3\n",
        "tpr = sklearn.metrics.recall_score(data_test_y, val_preds_log > thresh)\n",
        "f1 = sklearn.metrics.f1_score(data_test_y, val_preds_log > thresh)\n",
        "precision = sklearn.metrics.precision_score(data_test_y, val_preds_log > thresh)\n",
        "print(f\"acc: {accuracy_score(data_test_y, val_preds_log > thresh)}\")\n",
        "print(f'prec: {precision}, tpr: {tpr}, f1: {f1}')\n",
        "tp, fp, fn, tn = calculate_cm(data_test_y, val_preds_log > thresh)\n",
        "print(calculate_recall(tp, fp, fn, tn))\n",
        "print(calculate_fallout(tp,fp,fn,tn))"
      ],
      "metadata": {
        "colab": {
          "base_uri": "https://localhost:8080/"
        },
        "id": "kVron47epMJ0",
        "outputId": "15383924-993f-4897-f0d3-39b8c6c019a0"
      },
      "id": "kVron47epMJ0",
      "execution_count": 44,
      "outputs": [
        {
          "output_type": "stream",
          "name": "stdout",
          "text": [
            "acc: 0.8478260869565217\n",
            "prec: 0.8, tpr: 0.75, f1: 0.7741935483870969\n",
            "0.75\n",
            "0.1\n"
          ]
        }
      ]
    },
    {
      "cell_type": "code",
      "source": [
        "xg_reg = xgb.XGBRegressor(objective ='reg:squarederror', colsample_bytree = 0.3, learning_rate = 0.1,\n",
        "                max_depth = 5, alpha = 10, n_estimators = 10)\n",
        "\n",
        "xg_reg.fit(data_train_new,data_train_y)\n",
        "\n",
        "preds_xgb = xg_reg.predict(data_test_new)\n",
        "confusion_matrices[\"XGBoost\"] = confusion_matrix(data_test_y, preds_xgb > 0.5)\n",
        "\n",
        "thresh = 0.4\n",
        "tpr = sklearn.metrics.recall_score(data_test_y, preds_xgb > thresh)\n",
        "f1 = sklearn.metrics.f1_score(data_test_y, preds_xgb > thresh)\n",
        "precision = sklearn.metrics.precision_score(data_test_y, preds_xgb > thresh)\n",
        "print(f\"acc: {accuracy_score(data_test_y, preds_xgb > thresh)}\")\n",
        "print(f'prec: {precision}, tpr: {tpr}, f1: {f1}')\n",
        "tp, fp, fn, tn = calculate_cm(data_test_y, preds_xgb > thresh)\n",
        "print(calculate_recall(tp, fp, fn, tn))\n",
        "print(calculate_fallout(tp,fp,fn,tn))"
      ],
      "metadata": {
        "colab": {
          "base_uri": "https://localhost:8080/"
        },
        "id": "ZlKZddjNwdtd",
        "outputId": "bf799ff3-9082-4777-d87a-0c6291de0249"
      },
      "id": "ZlKZddjNwdtd",
      "execution_count": 30,
      "outputs": [
        {
          "output_type": "stream",
          "name": "stdout",
          "text": [
            "acc: 0.9130434782608695\n",
            "prec: 0.8, tpr: 1.0, f1: 0.888888888888889\n",
            "1.0\n",
            "0.13333333333333333\n"
          ]
        }
      ]
    },
    {
      "cell_type": "code",
      "source": [
        "from sklearn.metrics import roc_auc_score\n",
        "\n",
        "fpr_svm, tpr_svm, thresholds = roc_curve(data_test_y, val_preds_svm, drop_intermediate=True)\n",
        "auc_svm = roc_auc_score(data_test_y, val_preds_svm)\n",
        "fpr_lin, tpr_lin, thresholds = roc_curve(data_test_y, val_preds_lin, drop_intermediate=True)\n",
        "auc_lin = roc_auc_score(data_test_y, val_preds_lin)\n",
        "fpr_rid, tpr_rid, thresholds = roc_curve(data_test_y, val_preds_rid, drop_intermediate=True)\n",
        "auc_rid = roc_auc_score(data_test_y, val_preds_rid)\n",
        "plt.plot(fpr_svm, tpr_svm, label=f\"SVM ROC Area = {auc_svm:.3}\")\n",
        "plt.plot(fpr_lin, tpr_lin, label=f\"Linear Regression ROC Area = {auc_lin:.3}\")\n",
        "plt.plot(fpr_rid, tpr_rid, label=f\"Ridge Regression ROC Area = {auc_rid:.3}\")\n",
        "plt.plot([0, 1], [0, 1], '--r', lw=1)\n",
        "plt.legend()"
      ],
      "metadata": {
        "colab": {
          "base_uri": "https://localhost:8080/",
          "height": 282
        },
        "id": "yh0tJ0slWUB-",
        "outputId": "5ef77a52-f487-4ffe-fda2-bec64d1e1d05"
      },
      "id": "yh0tJ0slWUB-",
      "execution_count": 31,
      "outputs": [
        {
          "output_type": "execute_result",
          "data": {
            "text/plain": [
              "<matplotlib.legend.Legend at 0x7f0926758450>"
            ]
          },
          "metadata": {},
          "execution_count": 31
        },
        {
          "output_type": "display_data",
          "data": {
            "text/plain": [
              "<Figure size 432x288 with 1 Axes>"
            ],
            "image/png": "[encoded data removed]"
          },
          "metadata": {
            "needs_background": "light"
          }
        }
      ]
    },
    {
      "cell_type": "code",
      "source": [
        "nn = np.array([\n",
        "          [28, 2],\n",
        "          [3 , 13]\n",
        "])\n",
        "# ({'FN': 3, 'FP': 2, 'TN': 28, 'TP': 13})\n",
        "confusion_matrices[\"DNN\"] = nn"
      ],
      "metadata": {
        "id": "uWXU_QQt1FUl"
      },
      "id": "uWXU_QQt1FUl",
      "execution_count": 45,
      "outputs": []
    },
    {
      "cell_type": "code",
      "source": [
        "import seaborn as sns\n",
        "\n",
        "plt.figure(figsize=(20,10))\n",
        "for i in range(8):\n",
        "  if i < 7:\n",
        "      model = models[i]\n",
        "      plt.subplot(2,4,i+1)\n",
        "      plt.grid(0)\n",
        "      sns.heatmap(confusion_matrices[model], cmap='Blues', annot=True, cbar=False)\n",
        "      plt.title(f\"{model}\")\n",
        "      plt.xlabel(\"Predicted Label\")\n",
        "      plt.ylabel(\"Actual Label\")\n",
        "plt.show()"
      ],
      "metadata": {
        "colab": {
          "base_uri": "https://localhost:8080/",
          "height": 621
        },
        "id": "IifWcWjUzHJa",
        "outputId": "15e6ce1d-8c4d-4243-8bdd-79c192ab2285"
      },
      "id": "IifWcWjUzHJa",
      "execution_count": 46,
      "outputs": [
        {
          "output_type": "display_data",
          "data": {
            "text/plain": [
              "<Figure size 1440x720 with 7 Axes>"
            ],
            "image/png": "[encoded data removed]"
          },
          "metadata": {
            "needs_background": "light"
          }
        }
      ]
    },
    {
      "cell_type": "code",
      "source": [
        ""
      ],
      "metadata": {
        "id": "AAgst7QRzXNW"
      },
      "id": "AAgst7QRzXNW",
      "execution_count": 33,
      "outputs": []
    }
  ],
  "metadata": {
    "kernelspec": {
      "display_name": "Python 3 (ipykernel)",
      "language": "python",
      "name": "python3"
    },
    "language_info": {
      "codemirror_mode": {
        "name": "ipython",
        "version": 3
      },
      "file_extension": ".py",
      "mimetype": "text/x-python",
      "name": "python",
      "nbconvert_exporter": "python",
      "pygments_lexer": "ipython3",
      "version": "3.8.12"
    },
    "colab": {
      "name": "run_models.ipynb",
      "provenance": [],
      "collapsed_sections": [],
      "machine_shape": "hm"
    }
  },
  "nbformat": 4,
  "nbformat_minor": 5
}